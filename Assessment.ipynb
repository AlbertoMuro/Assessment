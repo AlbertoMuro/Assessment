{
 "cells": [
  {
   "cell_type": "code",
   "execution_count": 1,
   "metadata": {},
   "outputs": [],
   "source": [
    "import pandas as pd\n",
    "import numpy as np\n",
    "import matplotlib.pyplot as plt"
   ]
  },
  {
   "cell_type": "code",
   "execution_count": 3,
   "metadata": {},
   "outputs": [
    {
     "name": "stdout",
     "output_type": "stream",
     "text": [
      "<class 'pandas.core.frame.DataFrame'>\n",
      "RangeIndex: 1470 entries, 0 to 1469\n",
      "Data columns (total 18 columns):\n",
      " #   Column            Non-Null Count  Dtype  \n",
      "---  ------            --------------  -----  \n",
      " 0   renuncia          1470 non-null   object \n",
      " 1   edad              1470 non-null   int64  \n",
      " 2   viaje             1422 non-null   object \n",
      " 3   departamento      1463 non-null   object \n",
      " 4   distanciacasa     1468 non-null   float64\n",
      " 5   grado             1468 non-null   float64\n",
      " 6   genero            1427 non-null   object \n",
      " 7   nivellaboral      1470 non-null   int64  \n",
      " 8   satisfaccion      1469 non-null   float64\n",
      " 9   estatus           1453 non-null   object \n",
      " 10  sueldo            1465 non-null   float64\n",
      " 11  desemp            1425 non-null   float64\n",
      " 12  capacitacion      1469 non-null   float64\n",
      " 13  balancevida       1467 non-null   float64\n",
      " 14  antiguedad        1469 non-null   float64\n",
      " 15  antiguedadpuesto  1469 non-null   float64\n",
      " 16  promocion         1467 non-null   float64\n",
      " 17  tiempojefe        1470 non-null   int64  \n",
      "dtypes: float64(10), int64(3), object(5)\n",
      "memory usage: 206.8+ KB\n"
     ]
    }
   ],
   "source": [
    "df = pd.read_excel(\"DataBase.xlsx\")\n",
    "df.info()"
   ]
  },
  {
   "cell_type": "code",
   "execution_count": null,
   "metadata": {},
   "outputs": [],
   "source": []
  },
  {
   "cell_type": "code",
   "execution_count": null,
   "metadata": {},
   "outputs": [],
   "source": []
  }
 ],
 "metadata": {
  "kernelspec": {
   "display_name": "Python 3",
   "language": "python",
   "name": "python3"
  },
  "language_info": {
   "codemirror_mode": {
    "name": "ipython",
    "version": 3
   },
   "file_extension": ".py",
   "mimetype": "text/x-python",
   "name": "python",
   "nbconvert_exporter": "python",
   "pygments_lexer": "ipython3",
   "version": "3.11.4"
  }
 },
 "nbformat": 4,
 "nbformat_minor": 2
}
